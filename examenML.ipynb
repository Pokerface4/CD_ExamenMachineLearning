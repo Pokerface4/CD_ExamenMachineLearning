{
 "cells": [
  {
   "cell_type": "code",
   "execution_count": 1,
   "id": "0992e122",
   "metadata": {
    "_cell_guid": "b1076dfc-b9ad-4769-8c92-a6c4dae69d19",
    "_uuid": "8f2839f25d086af736a60e9eeb907d3b93b6e0e5",
    "execution": {
     "iopub.execute_input": "2024-05-26T23:24:49.037359Z",
     "iopub.status.busy": "2024-05-26T23:24:49.036925Z",
     "iopub.status.idle": "2024-05-26T23:24:50.151216Z",
     "shell.execute_reply": "2024-05-26T23:24:50.149591Z"
    },
    "papermill": {
     "duration": 1.122428,
     "end_time": "2024-05-26T23:24:50.153879",
     "exception": false,
     "start_time": "2024-05-26T23:24:49.031451",
     "status": "completed"
    },
    "tags": []
   },
   "outputs": [
    {
     "name": "stdout",
     "output_type": "stream",
     "text": [
      "/kaggle/input/estudiantes/estudiantes.csv\n"
     ]
    }
   ],
   "source": [
    "# This Python 3 environment comes with many helpful analytics libraries installed\n",
    "# It is defined by the kaggle/python Docker image: https://github.com/kaggle/docker-python\n",
    "# For example, here's several helpful packages to load\n",
    "\n",
    "import numpy as np # linear algebra\n",
    "import pandas as pd # data processing, CSV file I/O (e.g. pd.read_csv)\n",
    "\n",
    "# Input data files are available in the read-only \"../input/\" directory\n",
    "# For example, running this (by clicking run or pressing Shift+Enter) will list all files under the input directory\n",
    "\n",
    "import os\n",
    "for dirname, _, filenames in os.walk('/kaggle/input'):\n",
    "    for filename in filenames:\n",
    "        print(os.path.join(dirname, filename))\n",
    "\n",
    "# You can write up to 20GB to the current directory (/kaggle/working/) that gets preserved as output when you create a version using \"Save & Run All\" \n",
    "# You can also write temporary files to /kaggle/temp/, but they won't be saved outside of the current session"
   ]
  },
  {
   "cell_type": "markdown",
   "id": "731e781d",
   "metadata": {
    "papermill": {
     "duration": 0.00272,
     "end_time": "2024-05-26T23:24:50.160058",
     "exception": false,
     "start_time": "2024-05-26T23:24:50.157338",
     "status": "completed"
    },
    "tags": []
   },
   "source": [
    "# Cargar los datos"
   ]
  },
  {
   "cell_type": "code",
   "execution_count": 2,
   "id": "572fff93",
   "metadata": {
    "execution": {
     "iopub.execute_input": "2024-05-26T23:24:50.167932Z",
     "iopub.status.busy": "2024-05-26T23:24:50.167390Z",
     "iopub.status.idle": "2024-05-26T23:24:50.196909Z",
     "shell.execute_reply": "2024-05-26T23:24:50.195388Z"
    },
    "papermill": {
     "duration": 0.036578,
     "end_time": "2024-05-26T23:24:50.199654",
     "exception": false,
     "start_time": "2024-05-26T23:24:50.163076",
     "status": "completed"
    },
    "tags": []
   },
   "outputs": [
    {
     "name": "stdout",
     "output_type": "stream",
     "text": [
      "(395, 33)\n"
     ]
    }
   ],
   "source": [
    "df = pd.read_csv('/kaggle/input/estudiantes/estudiantes.csv')\n",
    "\n",
    "df.head()\n",
    "print(df.shape)"
   ]
  },
  {
   "cell_type": "markdown",
   "id": "2dd6e5aa",
   "metadata": {
    "papermill": {
     "duration": 0.002735,
     "end_time": "2024-05-26T23:24:50.205656",
     "exception": false,
     "start_time": "2024-05-26T23:24:50.202921",
     "status": "completed"
    },
    "tags": []
   },
   "source": [
    "# Preparar los datos"
   ]
  },
  {
   "cell_type": "code",
   "execution_count": 3,
   "id": "6ee424d2",
   "metadata": {
    "execution": {
     "iopub.execute_input": "2024-05-26T23:24:50.213414Z",
     "iopub.status.busy": "2024-05-26T23:24:50.212995Z",
     "iopub.status.idle": "2024-05-26T23:24:50.219658Z",
     "shell.execute_reply": "2024-05-26T23:24:50.218479Z"
    },
    "papermill": {
     "duration": 0.013409,
     "end_time": "2024-05-26T23:24:50.222039",
     "exception": false,
     "start_time": "2024-05-26T23:24:50.208630",
     "status": "completed"
    },
    "tags": []
   },
   "outputs": [],
   "source": [
    "#Eliminar filas con valores nulos, esto es opcional ya que mejor lo remplazamos por ceros\n",
    "#df= df.dropna()\n",
    "\n",
    "#verificar que los tipos de datos de cada columna sean correcto\n",
    "#tipos_de_dato = df.dtypes\n",
    "#print(tipos_de_dato)\n",
    "\n",
    "#Hacer que la codificacion este correcta para que no haya errores de caracteres.\n",
    "# Convertir todas las celdas del DataFrame a UTF-8\n",
    "#data_frame = data_frame.applymap(lambda x: x.encode('latin-1').decode('utf-8', 'ignore'))\n",
    "\n",
    "# Encontrar registros con todos los valores duplicados\n",
    "#duplicados_completos = df[df.duplicated(df.columns, keep=False)]\n",
    "\n",
    "#Imprimir los registros completos duplicados si los hay\n",
    "#if not duplicados_completos.empty:\n",
    "  #  print(\"SI HAY:\")\n",
    "#else:\n",
    "  #  print(\"No hay registros con todos los valores iguales en el DataFrame.\")\n",
    "    \n",
    "# Eliminar registros duplicados del DataFrame\n",
    "#data_frame_sin_duplicados = data_frame.drop_duplicates()\n",
    "# Imprimir información sobre la cantidad de registros eliminados\n",
    "#registros_duplicados_elim = len(data_frame) - len(data_frame_sin_duplicados)\n",
    "#print(\"Se eliminaron {} registros duplicados del DataFrame.\".format(registros_duplicados_elim))\n",
    "#data_frame = data_frame_sin_duplicados\n",
    "\n",
    "#Remplazar valores nulos de registros por 0\n",
    "#data_frame.fillna(0, inplace=True)\n",
    "#Verificar si hay alguna celda nula en el DataFrame\n",
    "#hay_nulos = df.isnull().any()\n",
    "#if hay_nulos.any():\n",
    " #   print(\"Hay al menos una celda nula en el DataFrame.\")\n",
    "#else:\n",
    " #   print(\"No hay celdas nulas en el DataFrame.\")"
   ]
  }
 ],
 "metadata": {
  "kaggle": {
   "accelerator": "none",
   "dataSources": [
    {
     "datasetId": 5084906,
     "sourceId": 8516852,
     "sourceType": "datasetVersion"
    }
   ],
   "dockerImageVersionId": 30698,
   "isGpuEnabled": false,
   "isInternetEnabled": true,
   "language": "python",
   "sourceType": "notebook"
  },
  "kernelspec": {
   "display_name": "Python 3",
   "language": "python",
   "name": "python3"
  },
  "language_info": {
   "codemirror_mode": {
    "name": "ipython",
    "version": 3
   },
   "file_extension": ".py",
   "mimetype": "text/x-python",
   "name": "python",
   "nbconvert_exporter": "python",
   "pygments_lexer": "ipython3",
   "version": "3.10.13"
  },
  "papermill": {
   "default_parameters": {},
   "duration": 4.986615,
   "end_time": "2024-05-26T23:24:50.746193",
   "environment_variables": {},
   "exception": null,
   "input_path": "__notebook__.ipynb",
   "output_path": "__notebook__.ipynb",
   "parameters": {},
   "start_time": "2024-05-26T23:24:45.759578",
   "version": "2.5.0"
  }
 },
 "nbformat": 4,
 "nbformat_minor": 5
}
